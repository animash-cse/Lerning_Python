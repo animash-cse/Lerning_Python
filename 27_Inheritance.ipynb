{
 "cells": [
  {
   "cell_type": "code",
   "execution_count": 18,
   "metadata": {},
   "outputs": [
    {
     "name": "stdout",
     "output_type": "stream",
     "text": [
      "brown\n",
      "Woof!\n"
     ]
    }
   ],
   "source": [
    "class Animal: # Super Class\n",
    "    def __init__(self, name, color):\n",
    "        self.name = name\n",
    "        self.color = color\n",
    "\n",
    "class Cat(Animal): # Sub Class\n",
    "    def purr(self):\n",
    "        print(\"Purr...\")\n",
    "        \n",
    "class Dog(Animal): # Sub Class\n",
    "    def bark(self):\n",
    "        print(\"Woof!\")\n",
    "\n",
    "fido = Dog(\"Fido\", \"brown\")\n",
    "print(fido.color)\n",
    "fido.bark()"
   ]
  },
  {
   "cell_type": "code",
   "execution_count": 19,
   "metadata": {},
   "outputs": [
    {
     "name": "stdout",
     "output_type": "stream",
     "text": [
      "Animash\n",
      "Boy student of class 11\n"
     ]
    }
   ],
   "source": [
    "class Bio:\n",
    "    def __init__(self, name, institute):\n",
    "        self.name = name\n",
    "        self.institute = institute\n",
    "class Girls(Bio):\n",
    "    def GirlClass_11(self):\n",
    "        print(\"Girl student of class 11\")\n",
    "class Boys(Bio):\n",
    "    def BoyClass_11(self):\n",
    "        print(\"Boy student of class 11\")\n",
    "    def BoyClass_12(self):\n",
    "        print(\"Girl student of class 12\")\n",
    "students = Boys(\"Animash\", \"SASTC\")\n",
    "print(students.name)\n",
    "students.BoyClass_11()"
   ]
  },
  {
   "cell_type": "code",
   "execution_count": 21,
   "metadata": {},
   "outputs": [
    {
     "name": "stdout",
     "output_type": "stream",
     "text": [
      "1\n",
      "2\n"
     ]
    }
   ],
   "source": [
    "class A:\n",
    "    def method(self):\n",
    "        print(1)\n",
    "\n",
    "class B(A):\n",
    "    def method(self):\n",
    "        print(2)\n",
    "A().method()\n",
    "B().method()"
   ]
  },
  {
   "cell_type": "code",
   "execution_count": 29,
   "metadata": {},
   "outputs": [
    {
     "name": "stdout",
     "output_type": "stream",
     "text": [
      "1\n",
      "2\n",
      "3\n",
      "1\n"
     ]
    }
   ],
   "source": [
    "class A:\n",
    "    def methodA(self):\n",
    "        print(1)\n",
    "\n",
    "class B(A):\n",
    "    def methodB(self):\n",
    "        print(2)\n",
    "class C(B):\n",
    "    def methodC(self):\n",
    "        print(3)\n",
    "methods = C()\n",
    "methods.methodA()\n",
    "methods.methodB()\n",
    "methods.methodC()\n",
    "\n",
    "C().methodA()"
   ]
  },
  {
   "cell_type": "code",
   "execution_count": 32,
   "metadata": {},
   "outputs": [
    {
     "name": "stdout",
     "output_type": "stream",
     "text": [
      "2\n"
     ]
    }
   ],
   "source": [
    "class A:\n",
    "    def a(self):\n",
    "        print(1)\n",
    "class B(A):\n",
    "      def a(self):\n",
    "        print(2)\n",
    "class C(B):\n",
    "    def b(self):\n",
    "        print(3)\n",
    "\n",
    "c = C()\n",
    "c.a()\n"
   ]
  },
  {
   "cell_type": "code",
   "execution_count": 42,
   "metadata": {},
   "outputs": [
    {
     "name": "stdout",
     "output_type": "stream",
     "text": [
      "1\n",
      "2\n"
     ]
    }
   ],
   "source": [
    "class A:\n",
    "    def a(self):\n",
    "        print(1)\n",
    "class B(A):\n",
    "    def a(self):\n",
    "        super().a()#super used to find the method with a certain name in an object's superclass.\n",
    "        print(2)\n",
    "class C(B):\n",
    "    def b(self):\n",
    "        print(3)\n",
    "        \n",
    "\n",
    "#C().a()\n",
    "C().a()"
   ]
  },
  {
   "cell_type": "code",
   "execution_count": null,
   "metadata": {
    "collapsed": true
   },
   "outputs": [],
   "source": []
  },
  {
   "cell_type": "code",
   "execution_count": null,
   "metadata": {
    "collapsed": true
   },
   "outputs": [],
   "source": []
  }
 ],
 "metadata": {
  "kernelspec": {
   "display_name": "Python 3",
   "language": "python",
   "name": "python3"
  },
  "language_info": {
   "codemirror_mode": {
    "name": "ipython",
    "version": 3
   },
   "file_extension": ".py",
   "mimetype": "text/x-python",
   "name": "python",
   "nbconvert_exporter": "python",
   "pygments_lexer": "ipython3",
   "version": "3.6.3"
  }
 },
 "nbformat": 4,
 "nbformat_minor": 2
}
