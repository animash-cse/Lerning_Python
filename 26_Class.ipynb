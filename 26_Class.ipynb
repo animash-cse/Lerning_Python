{
 "cells": [
  {
   "cell_type": "code",
   "execution_count": 20,
   "metadata": {},
   "outputs": [
    {
     "name": "stdout",
     "output_type": "stream",
     "text": [
      "dog-colored\n"
     ]
    }
   ],
   "source": [
    "class Cat:\n",
    "    def __init__(self, color, legs):\n",
    "        self.color = color\n",
    "        self.legs = legs\n",
    "\n",
    "felix = Cat(\"ginger\", 4)\n",
    "rover = Cat(\"dog-colored\", 4)\n",
    "stumpy = Cat(\"brown\", 3)\n",
    "\n",
    "print(rover.color)"
   ]
  },
  {
   "cell_type": "code",
   "execution_count": 14,
   "metadata": {},
   "outputs": [
    {
     "name": "stdout",
     "output_type": "stream",
     "text": [
      "Animash\n",
      "1420101\n"
     ]
    }
   ],
   "source": [
    "class student:\n",
    "    def __init__(self, Name, Roll): \n",
    "        self.Name = Name\n",
    "        self.Roll = Roll\n",
    "        \n",
    "student1 = student(\"Animash\", 1420101)\n",
    "student2 = student(\"Bishojit\", 1420102)\n",
    "student3 = student(\"Shobuj\", 1420103)\n",
    "print(student1.Name)\n",
    "print(student1.Roll)"
   ]
  },
  {
   "cell_type": "code",
   "execution_count": 19,
   "metadata": {},
   "outputs": [
    {
     "name": "stdout",
     "output_type": "stream",
     "text": [
      "Animash\n",
      "1420101\n",
      "Software Development\n"
     ]
    }
   ],
   "source": [
    "class student:\n",
    "    def __init__(self, Name, Roll): \n",
    "        self.Name = Name\n",
    "        self.Roll = Roll\n",
    "    def work(self):\n",
    "        print(\"Software Development\")\n",
    "        \n",
    "student1 = student(\"Animash\", 1420101)\n",
    "student2 = student(\"Bishojit\", 1420102)\n",
    "student3 = student(\"Shobuj\", 1420103)\n",
    "\n",
    "print(student1.Name)\n",
    "print(student1.Roll)\n",
    "student1.work()"
   ]
  },
  {
   "cell_type": "code",
   "execution_count": 22,
   "metadata": {},
   "outputs": [
    {
     "name": "stdout",
     "output_type": "stream",
     "text": [
      "Animash\n",
      "1420101\n",
      "Software Development\n",
      "HSTU\n",
      "3\n"
     ]
    }
   ],
   "source": [
    "class student:\n",
    "    University = \"HSTU\"\n",
    "    Rank = 3\n",
    "    def __init__(self, Name, Roll): \n",
    "        self.Name = Name\n",
    "        self.Roll = Roll\n",
    "    def work(self):\n",
    "        print(\"Software Development\")\n",
    "        \n",
    "student1 = student(\"Animash\", 1420101)\n",
    "student2 = student(\"Bishojit\", 1420102)\n",
    "student3 = student(\"Shobuj\", 1420103)\n",
    "\n",
    "print(student1.Name)\n",
    "print(student1.Roll)\n",
    "student1.work()\n",
    "print(student.University)\n",
    "print (student1.Rank)"
   ]
  },
  {
   "cell_type": "code",
   "execution_count": 26,
   "metadata": {},
   "outputs": [
    {
     "name": "stdout",
     "output_type": "stream",
     "text": [
      "Hi from HSTU\n"
     ]
    }
   ],
   "source": [
    "class Student:\n",
    "    def __init__(self, name):\n",
    "        self.name = name\n",
    "  \n",
    "    def sayHi(self):\n",
    "        print(\"Hi from \"+self.name)\n",
    "        \n",
    "s1 = Student(\"HSTU\")\n",
    "s1.sayHi()"
   ]
  },
  {
   "cell_type": "code",
   "execution_count": 29,
   "metadata": {},
   "outputs": [
    {
     "name": "stdout",
     "output_type": "stream",
     "text": [
      "Hi from HSTU\n",
      "HSTU\n",
      "SASTC\n"
     ]
    }
   ],
   "source": [
    "class Student:\n",
    "    def __init__(self, name):\n",
    "        self.name = name\n",
    "  \n",
    "    def sayHi(self):\n",
    "        print(\"Hi from \"+self.name)\n",
    "        \n",
    "s1 = Student(\"HSTU\")\n",
    "s2 = Student(\"SASTC\")\n",
    "s1.sayHi()\n",
    "print(s1.name)\n",
    "print(s2.name)"
   ]
  },
  {
   "cell_type": "code",
   "execution_count": null,
   "metadata": {
    "collapsed": true
   },
   "outputs": [],
   "source": []
  }
 ],
 "metadata": {
  "kernelspec": {
   "display_name": "Python 3",
   "language": "python",
   "name": "python3"
  },
  "language_info": {
   "codemirror_mode": {
    "name": "ipython",
    "version": 3
   },
   "file_extension": ".py",
   "mimetype": "text/x-python",
   "name": "python",
   "nbconvert_exporter": "python",
   "pygments_lexer": "ipython3",
   "version": "3.6.3"
  }
 },
 "nbformat": 4,
 "nbformat_minor": 2
}
