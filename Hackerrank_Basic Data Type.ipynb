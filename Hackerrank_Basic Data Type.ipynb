{
 "cells": [
  {
   "cell_type": "code",
   "execution_count": 2,
   "metadata": {},
   "outputs": [
    {
     "name": "stdout",
     "output_type": "stream",
     "text": [
      "12\n",
      "insert 0 5\n",
      "insert 1 10\n",
      "insert 0 6\n",
      "print\n",
      "ani\n",
      "jhgj\n",
      "kjkj\n",
      "jhjh\n",
      "hghg\n",
      "ghygh\n",
      "hygyg\n",
      "fdfd\n"
     ]
    }
   ],
   "source": [
    "import random\n",
    "L=[]\n",
    "if __name__ == '__main__':\n",
    "    N = int(input())\n",
    "    for row in range(N): \n",
    "        inputs = input().split() \n",
    "        if len(inputs)==1:\n",
    "            command =inputs[0] \n",
    "        if len(inputs)==2: \n",
    "            command = inputs[0] \n",
    "            e = int(inputs[1]) \n",
    "        if len(inputs)==3: \n",
    "            command = inputs[0] \n",
    "            i = int(inputs[1]) \n",
    "            e = int(inputs[2])\n",
    "\n",
    "    if command==\"insert\":\n",
    "        L.insert(i,e)\n",
    "    elif command==\"remove\":\n",
    "        L.remove(e)\n",
    "    elif command==\"append\":\n",
    "        L.append(e)\n",
    "    elif command==\"sort\":\n",
    "         L.sort()\n",
    "    elif command==\"pop\":\n",
    "         L.pop()\n",
    "    elif command==\"reverse\":\n",
    "         L.reverse()\n",
    "    elif command==\"print\":\n",
    "         print(L)\n"
   ]
  },
  {
   "cell_type": "code",
   "execution_count": null,
   "metadata": {
    "collapsed": true
   },
   "outputs": [],
   "source": []
  }
 ],
 "metadata": {
  "kernelspec": {
   "display_name": "Python 3",
   "language": "python",
   "name": "python3"
  },
  "language_info": {
   "codemirror_mode": {
    "name": "ipython",
    "version": 3
   },
   "file_extension": ".py",
   "mimetype": "text/x-python",
   "name": "python",
   "nbconvert_exporter": "python",
   "pygments_lexer": "ipython3",
   "version": "3.6.3"
  }
 },
 "nbformat": 4,
 "nbformat_minor": 2
}
