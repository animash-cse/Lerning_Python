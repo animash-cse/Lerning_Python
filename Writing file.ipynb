{
 "cells": [
  {
   "cell_type": "code",
   "execution_count": 1,
   "metadata": {
    "collapsed": true
   },
   "outputs": [],
   "source": [
    "# The file contents are deleted if you open a file in write mode and then close it..!\n",
    "file = open(\"writeFile.txt\", \"w\")\n",
    "file.write(\"I want to write this string in the file\")\n",
    "file.close()"
   ]
  },
  {
   "cell_type": "code",
   "execution_count": 2,
   "metadata": {},
   "outputs": [
    {
     "name": "stdout",
     "output_type": "stream",
     "text": [
      "I want to write this string in the file\n"
     ]
    }
   ],
   "source": [
    "file = open(\"writeFile.txt\", \"r\")\n",
    "print(file.read())\n",
    "file.close()"
   ]
  },
  {
   "cell_type": "code",
   "execution_count": 4,
   "metadata": {
    "collapsed": true
   },
   "outputs": [],
   "source": [
    "file = open(\"writeFile.txt\", \"w\")\n",
    "file.write(\"I want to write this string in the file this is 2nd line\")\n",
    "file.close()"
   ]
  },
  {
   "cell_type": "code",
   "execution_count": 5,
   "metadata": {},
   "outputs": [
    {
     "name": "stdout",
     "output_type": "stream",
     "text": [
      "I want to write this string in the file this is 2nd line\n"
     ]
    }
   ],
   "source": [
    "file = open(\"writeFile.txt\", \"r\")\n",
    "print(file.read())\n",
    "file.close()"
   ]
  },
  {
   "cell_type": "code",
   "execution_count": 6,
   "metadata": {},
   "outputs": [
    {
     "name": "stdout",
     "output_type": "stream",
     "text": [
      "11\n"
     ]
    }
   ],
   "source": [
    "# Return number of byte written to a file, if successful\n",
    "msg = \"Animash Roy\"\n",
    "file = open(\"writeFile2.txt\", \"w\")\n",
    "amount_byte = file.write(msg)\n",
    "print(amount_byte)\n",
    "file.close()"
   ]
  },
  {
   "cell_type": "code",
   "execution_count": 9,
   "metadata": {},
   "outputs": [
    {
     "name": "stdout",
     "output_type": "stream",
     "text": [
      "28\n"
     ]
    }
   ],
   "source": [
    "# Return number of byte written to a file, if successful\n",
    "msg = \"Animash Roy opu, Dulal hosin\"\n",
    "file = open(\"writeFile2.txt\", \"w\")\n",
    "amount_byte = file.write(msg)\n",
    "print(amount_byte)\n",
    "file.close()"
   ]
  },
  {
   "cell_type": "code",
   "execution_count": null,
   "metadata": {
    "collapsed": true
   },
   "outputs": [],
   "source": []
  }
 ],
 "metadata": {
  "kernelspec": {
   "display_name": "Python 3",
   "language": "python",
   "name": "python3"
  },
  "language_info": {
   "codemirror_mode": {
    "name": "ipython",
    "version": 3
   },
   "file_extension": ".py",
   "mimetype": "text/x-python",
   "name": "python",
   "nbconvert_exporter": "python",
   "pygments_lexer": "ipython3",
   "version": "3.6.3"
  }
 },
 "nbformat": 4,
 "nbformat_minor": 2
}
