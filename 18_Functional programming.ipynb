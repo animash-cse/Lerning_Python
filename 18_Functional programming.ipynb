{
 "cells": [
  {
   "cell_type": "code",
   "execution_count": null,
   "metadata": {},
   "outputs": [],
   "source": []
  },
  {
   "cell_type": "code",
   "execution_count": 12,
   "metadata": {},
   "outputs": [
    {
     "name": "stdout",
     "output_type": "stream",
     "text": [
      "10\n",
      "15\n"
     ]
    }
   ],
   "source": [
    "def apply_twice(func, arg):\n",
    "    return func(arg)\n",
    "\n",
    "def add_five(x):\n",
    "    print(x)\n",
    "    return x + 5\n",
    "\n",
    "print(apply_twice(add_five, 10))"
   ]
  },
  {
   "cell_type": "code",
   "execution_count": 17,
   "metadata": {},
   "outputs": [
    {
     "name": "stdout",
     "output_type": "stream",
     "text": [
      "10\n",
      "15\n",
      "20\n"
     ]
    }
   ],
   "source": [
    "def apply_twice(func, arg):\n",
    "    return func(func(arg))\n",
    "\n",
    "def add_five(x):\n",
    "    print(x)\n",
    "    return x + 5\n",
    "\n",
    "print(apply_twice(add_five, 10))"
   ]
  },
  {
   "cell_type": "code",
   "execution_count": 15,
   "metadata": {},
   "outputs": [
    {
     "name": "stdout",
     "output_type": "stream",
     "text": [
      "10\n",
      "15\n",
      "20\n",
      "25\n"
     ]
    }
   ],
   "source": [
    "def apply_twice(func, arg):\n",
    "    return func(func(func(arg)))\n",
    "\n",
    "def add_five(x):\n",
    "    print(x)\n",
    "    return x + 5\n",
    "\n",
    "print(apply_twice(add_five, 10))"
   ]
  },
  {
   "cell_type": "code",
   "execution_count": 18,
   "metadata": {},
   "outputs": [
    {
     "name": "stdout",
     "output_type": "stream",
     "text": [
      "16\n"
     ]
    }
   ],
   "source": [
    "def test(func, arg):\n",
    "    return func(func(arg))\n",
    "\n",
    "def mult(x):\n",
    "    return x * x\n",
    "\n",
    "print(test(mult, 2))"
   ]
  },
  {
   "cell_type": "code",
   "execution_count": 21,
   "metadata": {},
   "outputs": [
    {
     "name": "stdout",
     "output_type": "stream",
     "text": [
      "1.1428571428571428\n"
     ]
    }
   ],
   "source": [
    "# Pure Functions \n",
    "def pure_function(x, y):\n",
    "  temp = x + 2*y #8\n",
    "  return temp / (2*x + y) #8/7\n",
    "print(pure_function(2,3))"
   ]
  },
  {
   "cell_type": "code",
   "execution_count": 26,
   "metadata": {},
   "outputs": [
    {
     "name": "stdout",
     "output_type": "stream",
     "text": [
      "None\n"
     ]
    }
   ],
   "source": [
    "# Impure function\n",
    "some_list = []\n",
    "\n",
    "def impure(arg):\n",
    "  some_list.append(arg)\n",
    "print(impure(12))"
   ]
  },
  {
   "cell_type": "code",
   "execution_count": 27,
   "metadata": {},
   "outputs": [
    {
     "name": "stdout",
     "output_type": "stream",
     "text": [
      "None\n"
     ]
    }
   ],
   "source": [
    "some_list = [1,2]\n",
    "\n",
    "def impure(arg):\n",
    "  some_list.append(arg)\n",
    "print(impure(12))"
   ]
  },
  {
   "cell_type": "code",
   "execution_count": null,
   "metadata": {
    "collapsed": true
   },
   "outputs": [],
   "source": []
  }
 ],
 "metadata": {
  "kernelspec": {
   "display_name": "Python 3",
   "language": "python",
   "name": "python3"
  },
  "language_info": {
   "codemirror_mode": {
    "name": "ipython",
    "version": 3
   },
   "file_extension": ".py",
   "mimetype": "text/x-python",
   "name": "python",
   "nbconvert_exporter": "python",
   "pygments_lexer": "ipython3",
   "version": "3.6.3"
  }
 },
 "nbformat": 4,
 "nbformat_minor": 2
}
