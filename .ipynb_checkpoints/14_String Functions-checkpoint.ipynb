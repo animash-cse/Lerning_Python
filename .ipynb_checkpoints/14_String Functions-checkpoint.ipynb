{
 "cells": [
  {
   "cell_type": "code",
   "execution_count": 19,
   "metadata": {},
   "outputs": [
    {
     "name": "stdout",
     "output_type": "stream",
     "text": [
      "spam,eggs,ham\n"
     ]
    }
   ],
   "source": [
    "# join = joins a list of string with another string as a separator.\n",
    "print(\",\".join([\"spam\",\"eggs\",\"ham\"]))"
   ]
  },
  {
   "cell_type": "code",
   "execution_count": 11,
   "metadata": {},
   "outputs": [
    {
     "name": "stdout",
     "output_type": "stream",
     "text": [
      "Hello World\n"
     ]
    }
   ],
   "source": [
    "# replace = replace one substring in a string with another.\n",
    "print(\"Hello Dulal\".replace(\"Dulal\", \"World\"))"
   ]
  },
  {
   "cell_type": "code",
   "execution_count": 12,
   "metadata": {},
   "outputs": [
    {
     "name": "stdout",
     "output_type": "stream",
     "text": [
      "True\n",
      "False\n"
     ]
    }
   ],
   "source": [
    "# startswith and endswith = determine if there is a substring at the start \n",
    "#and end of a string respectively\n",
    "print(\"This is my sentence\".startswith(\"This\"))\n",
    "print(\"This is my sentence\".startswith(\"this\")) # Case sensitive"
   ]
  },
  {
   "cell_type": "code",
   "execution_count": 18,
   "metadata": {},
   "outputs": [
    {
     "name": "stdout",
     "output_type": "stream",
     "text": [
      "THIS IS FOR UPPER SENTENCE\n",
      "this is for lower sentence\n"
     ]
    }
   ],
   "source": [
    "# lower and upper = to change the case of a string\n",
    "print(\"This is for upper sentence\".upper())\n",
    "print(\"THIS IS FOR LOWER SENTENCE\".lower())"
   ]
  },
  {
   "cell_type": "code",
   "execution_count": 23,
   "metadata": {},
   "outputs": [
    {
     "name": "stdout",
     "output_type": "stream",
     "text": [
      "['spam', 'eggs', 'ham']\n"
     ]
    }
   ],
   "source": [
    "# split = It is the opposite of join\n",
    "print(\"spam,eggs,ham\".split(\",\"))"
   ]
  },
  {
   "cell_type": "code",
   "execution_count": null,
   "metadata": {
    "collapsed": true
   },
   "outputs": [],
   "source": []
  }
 ],
 "metadata": {
  "kernelspec": {
   "display_name": "Python 3",
   "language": "python",
   "name": "python3"
  },
  "language_info": {
   "codemirror_mode": {
    "name": "ipython",
    "version": 3
   },
   "file_extension": ".py",
   "mimetype": "text/x-python",
   "name": "python",
   "nbconvert_exporter": "python",
   "pygments_lexer": "ipython3",
   "version": "3.6.3"
  }
 },
 "nbformat": 4,
 "nbformat_minor": 2
}
