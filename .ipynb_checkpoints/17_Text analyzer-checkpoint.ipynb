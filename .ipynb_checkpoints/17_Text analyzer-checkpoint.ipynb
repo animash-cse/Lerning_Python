{
 "cells": [
  {
   "cell_type": "code",
   "execution_count": 4,
   "metadata": {},
   "outputs": [
    {
     "name": "stdout",
     "output_type": "stream",
     "text": [
      "Enter a filename:file.txt\n",
      "animashroyopu\n",
      "dulal\n",
      "monjur\n",
      "shobuj\n"
     ]
    }
   ],
   "source": [
    "# How a file could be open and read\n",
    "filename = input(\"Enter a filename:\")\n",
    "with open(filename) as f:\n",
    "    text = f.read()\n",
    "print(text)"
   ]
  },
  {
   "cell_type": "code",
   "execution_count": 2,
   "metadata": {},
   "outputs": [
    {
     "name": "stdout",
     "output_type": "stream",
     "text": [
      "Enter a filename:writeFile.txt\n",
      "I want to write this string in the file this is 2nd line\n"
     ]
    }
   ],
   "source": [
    "# How a file could be open and read\n",
    "filename = input(\"Enter a filename:\")\n",
    "with open(filename) as f:\n",
    "    text = f.read()\n",
    "print(text)"
   ]
  },
  {
   "cell_type": "code",
   "execution_count": 11,
   "metadata": {},
   "outputs": [
    {
     "name": "stdout",
     "output_type": "stream",
     "text": [
      "Enter a filename:file.txt\n",
      "4\n"
     ]
    }
   ],
   "source": [
    "def count_char(text, char):\n",
    "    count = 0\n",
    "    for c in text:\n",
    "        if c==char:\n",
    "            count += 1\n",
    "    return count\n",
    "filename = input(\"Enter a filename:\")\n",
    "with open(filename) as f:\n",
    "    text = f.read()\n",
    "print(count_char(text, \"o\"))"
   ]
  },
  {
   "cell_type": "code",
   "execution_count": null,
   "metadata": {
    "collapsed": true
   },
   "outputs": [],
   "source": []
  }
 ],
 "metadata": {
  "kernelspec": {
   "display_name": "Python 3",
   "language": "python",
   "name": "python3"
  },
  "language_info": {
   "codemirror_mode": {
    "name": "ipython",
    "version": 3
   },
   "file_extension": ".py",
   "mimetype": "text/x-python",
   "name": "python",
   "nbconvert_exporter": "python",
   "pygments_lexer": "ipython3",
   "version": "3.6.3"
  }
 },
 "nbformat": 4,
 "nbformat_minor": 2
}
