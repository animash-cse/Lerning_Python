{
 "cells": [
  {
   "cell_type": "code",
   "execution_count": 11,
   "metadata": {},
   "outputs": [
    {
     "name": "stdout",
     "output_type": "stream",
     "text": [
      "{1: 1, 2: 4, 3: 9, 4: 16, 7: 64}\n"
     ]
    }
   ],
   "source": [
    "# Dictionary is abuilt in python data type composed of arbitary keys and values.\n",
    "squares = {\n",
    "    1:1,\n",
    "    2:4,\n",
    "    3:\"error\",\n",
    "    4:16,\n",
    "}\n",
    "squares[7] = 64\n",
    "squares[3] = 9\n",
    "print(squares)"
   ]
  },
  {
   "cell_type": "code",
   "execution_count": 7,
   "metadata": {},
   "outputs": [
    {
     "name": "stdout",
     "output_type": "stream",
     "text": [
      "17\n"
     ]
    }
   ],
   "source": [
    "primes = {\n",
    "    1:2,\n",
    "    2:3,\n",
    "    4:7,\n",
    "    7:17\n",
    "}\n",
    "print(primes[primes[4]])"
   ]
  },
  {
   "cell_type": "code",
   "execution_count": 8,
   "metadata": {},
   "outputs": [
    {
     "name": "stdout",
     "output_type": "stream",
     "text": [
      "True\n",
      "False\n",
      "True\n"
     ]
    }
   ],
   "source": [
    "# To determine whether key is in a dictionary\n",
    "nums={\n",
    "    1:\"one\",\n",
    "    2:\"two\",\n",
    "    3:\"three\",\n",
    "}\n",
    "print(1 in nums)\n",
    "print('three' in nums)\n",
    "print(3 in nums)"
   ]
  },
  {
   "cell_type": "code",
   "execution_count": 9,
   "metadata": {},
   "outputs": [
    {
     "name": "stdout",
     "output_type": "stream",
     "text": [
      "True\n",
      "False\n",
      "True\n",
      "False\n",
      "True\n"
     ]
    }
   ],
   "source": [
    "nums={\n",
    "    1:\"one\",\n",
    "    2:\"two\",\n",
    "    3:\"three\",\n",
    "}\n",
    "print(1 in nums)\n",
    "print('three' in nums)\n",
    "print(3 in nums)\n",
    "print(4 in nums)\n",
    "print(4 not in nums)"
   ]
  },
  {
   "cell_type": "code",
   "execution_count": 17,
   "metadata": {},
   "outputs": [
    {
     "name": "stdout",
     "output_type": "stream",
     "text": [
      "[2, 4, 3]\n",
      "None\n",
      "Not in Dictionary\n"
     ]
    }
   ],
   "source": [
    "pairs = {\n",
    "    1: \"Apple\",\n",
    "    \"red\":[2,4,3],\n",
    "    True: False,\n",
    "    None: \"True\"\n",
    "}\n",
    "print(pairs.get(\"red\"))\n",
    "print(pairs.get(\"black\"))  # None by default\n",
    "print(pairs.get(\"black\", \"Not in Dictionary\"))"
   ]
  },
  {
   "cell_type": "code",
   "execution_count": 18,
   "metadata": {},
   "outputs": [
    {
     "name": "stdout",
     "output_type": "stream",
     "text": [
      "3\n"
     ]
    }
   ],
   "source": [
    "fib = {\n",
    "    1:1,\n",
    "    2:1,\n",
    "    3:2,\n",
    "    4:3\n",
    "}\n",
    "print(fib.get(4,0))"
   ]
  },
  {
   "cell_type": "code",
   "execution_count": 19,
   "metadata": {},
   "outputs": [
    {
     "name": "stdout",
     "output_type": "stream",
     "text": [
      "8\n"
     ]
    }
   ],
   "source": [
    "fib = {\n",
    "    1:1,\n",
    "    2:1,\n",
    "    3:2,\n",
    "    4:3\n",
    "}\n",
    "print(fib.get(4,0) + fib.get(5,5))"
   ]
  },
  {
   "cell_type": "code",
   "execution_count": null,
   "metadata": {
    "collapsed": true
   },
   "outputs": [],
   "source": []
  }
 ],
 "metadata": {
  "kernelspec": {
   "display_name": "Python 3",
   "language": "python",
   "name": "python3"
  },
  "language_info": {
   "codemirror_mode": {
    "name": "ipython",
    "version": 3
   },
   "file_extension": ".py",
   "mimetype": "text/x-python",
   "name": "python",
   "nbconvert_exporter": "python",
   "pygments_lexer": "ipython3",
   "version": "3.6.3"
  }
 },
 "nbformat": 4,
 "nbformat_minor": 2
}
