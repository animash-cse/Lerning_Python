{
 "cells": [
  {
   "cell_type": "code",
   "execution_count": 4,
   "metadata": {},
   "outputs": [
    {
     "name": "stdout",
     "output_type": "stream",
     "text": [
      "Enter a filename:file.txt\n",
      "animashroyopu\n",
      "dulal\n",
      "monjur\n",
      "shobuj\n"
     ]
    }
   ],
   "source": [
    "# How a file could be open and read\n",
    "filename = input(\"Enter a filename:\")\n",
    "with open(filename) as f:\n",
    "    text = f.read()\n",
    "print(text)"
   ]
  },
  {
   "cell_type": "code",
   "execution_count": 2,
   "metadata": {},
   "outputs": [
    {
     "name": "stdout",
     "output_type": "stream",
     "text": [
      "Enter a filename:writeFile.txt\n",
      "I want to write this string in the file this is 2nd line\n"
     ]
    }
   ],
   "source": [
    "# How a file could be open and read\n",
    "filename = input(\"Enter a filename:\")\n",
    "with open(filename) as f:\n",
    "    text = f.read()\n",
    "print(text)"
   ]
  },
  {
   "cell_type": "code",
   "execution_count": 14,
   "metadata": {},
   "outputs": [
    {
     "name": "stdout",
     "output_type": "stream",
     "text": [
      "Enter a filename:file.txt\n",
      "4\n"
     ]
    }
   ],
   "source": [
    "def count_char(text, char):\n",
    "    count = 0\n",
    "    for c in text:\n",
    "        if c==char:\n",
    "            count += 1\n",
    "    return count\n",
    "filename = input(\"Enter a filename:\")\n",
    "with open(filename) as f:\n",
    "    text = f.read()\n",
    "print(count_char(text, \"o\"))"
   ]
  },
  {
   "cell_type": "code",
   "execution_count": 15,
   "metadata": {},
   "outputs": [
    {
     "name": "stdout",
     "output_type": "stream",
     "text": [
      "a-9.09%\n",
      "b-3.03%\n",
      "c-0.0%\n",
      "d-3.03%\n",
      "e-0.0%\n",
      "f-0.0%\n",
      "g-0.0%\n",
      "h-6.06%\n",
      "i-3.03%\n",
      "j-6.06%\n",
      "k-0.0%\n",
      "l-6.06%\n",
      "m-6.06%\n",
      "n-6.06%\n",
      "o-12.12%\n",
      "p-3.03%\n",
      "q-0.0%\n",
      "r-6.06%\n",
      "s-6.06%\n",
      "t-0.0%\n",
      "u-12.12%\n",
      "v-0.0%\n",
      "w-0.0%\n",
      "x-0.0%\n",
      "y-3.03%\n",
      "z-0.0%\n"
     ]
    }
   ],
   "source": [
    "for char in \"abcdefghijklmnopqrstuvwxyz\":\n",
    "    perc = 100*count_char(text, char)/len(text)\n",
    "    print(\"{0}-{1}%\".format(char, round(perc, 2)))"
   ]
  },
  {
   "cell_type": "code",
   "execution_count": null,
   "metadata": {
    "collapsed": true
   },
   "outputs": [],
   "source": []
  }
 ],
 "metadata": {
  "kernelspec": {
   "display_name": "Python 3",
   "language": "python",
   "name": "python3"
  },
  "language_info": {
   "codemirror_mode": {
    "name": "ipython",
    "version": 3
   },
   "file_extension": ".py",
   "mimetype": "text/x-python",
   "name": "python",
   "nbconvert_exporter": "python",
   "pygments_lexer": "ipython3",
   "version": "3.6.3"
  }
 },
 "nbformat": 4,
 "nbformat_minor": 2
}
