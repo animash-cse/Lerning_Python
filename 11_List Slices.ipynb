{
 "cells": [
  {
   "cell_type": "code",
   "execution_count": 2,
   "metadata": {},
   "outputs": [
    {
     "name": "stdout",
     "output_type": "stream",
     "text": [
      "[4, 9, 16, 25]\n",
      "[9, 16, 25, 36, 49]\n"
     ]
    }
   ],
   "source": [
    "# List slices provide a more advanced way of retrieving values from a list.\n",
    "squares = [0,1,4,9,16,25,36,49,64,81]\n",
    "print(squares[2:6])\n",
    "print(squares[3:8])"
   ]
  },
  {
   "cell_type": "code",
   "execution_count": 3,
   "metadata": {},
   "outputs": [
    {
     "name": "stdout",
     "output_type": "stream",
     "text": [
      "[0, 1, 4, 9, 16, 25]\n",
      "[25, 36, 49, 64, 81]\n"
     ]
    }
   ],
   "source": [
    "squares = [0,1,4,9,16,25,36,49,64,81]\n",
    "print(squares[:6])\n",
    "print(squares[5:])"
   ]
  },
  {
   "cell_type": "code",
   "execution_count": 9,
   "metadata": {},
   "outputs": [
    {
     "name": "stdout",
     "output_type": "stream",
     "text": [
      "['a', 'b']\n"
     ]
    }
   ],
   "source": [
    "list = [\"a\", \"b\", \"c\", \"d\"]\n",
    "a = list[0:2]\n",
    "print(a)"
   ]
  },
  {
   "cell_type": "code",
   "execution_count": 10,
   "metadata": {},
   "outputs": [
    {
     "name": "stdout",
     "output_type": "stream",
     "text": [
      "[0, 4, 16, 36, 64]\n",
      "[4, 25, 64]\n"
     ]
    }
   ],
   "source": [
    "squares = [0,1,4,9,16,25,36,49,64,81]\n",
    "print(squares[::2])\n",
    "print(squares[2:9:3])"
   ]
  },
  {
   "cell_type": "code",
   "execution_count": 11,
   "metadata": {},
   "outputs": [
    {
     "name": "stdout",
     "output_type": "stream",
     "text": [
      "[1, 25, 81]\n"
     ]
    }
   ],
   "source": [
    "squares = [0,1,4,9,16,25,36,49,64,81]\n",
    "print(squares[1::4])"
   ]
  },
  {
   "cell_type": "code",
   "execution_count": 15,
   "metadata": {},
   "outputs": [
    {
     "name": "stdout",
     "output_type": "stream",
     "text": [
      "[1, 4, 9, 16, 25, 36, 49, 64]\n"
     ]
    }
   ],
   "source": [
    "squares = [0,1,4,9,16,25,36,49,64,81]\n",
    "print(squares[1:-1]) # Count from the end of the list"
   ]
  },
  {
   "cell_type": "code",
   "execution_count": 16,
   "metadata": {},
   "outputs": [
    {
     "name": "stdout",
     "output_type": "stream",
     "text": [
      "[49, 36]\n"
     ]
    }
   ],
   "source": [
    "squares = [0,1,4,9,16,25,36,49,64,81]\n",
    "print(squares[7:5:-1])"
   ]
  },
  {
   "cell_type": "code",
   "execution_count": null,
   "metadata": {
    "collapsed": true
   },
   "outputs": [],
   "source": []
  }
 ],
 "metadata": {
  "kernelspec": {
   "display_name": "Python 3",
   "language": "python",
   "name": "python3"
  },
  "language_info": {
   "codemirror_mode": {
    "name": "ipython",
    "version": 3
   },
   "file_extension": ".py",
   "mimetype": "text/x-python",
   "name": "python",
   "nbconvert_exporter": "python",
   "pygments_lexer": "ipython3",
   "version": "3.6.3"
  }
 },
 "nbformat": 4,
 "nbformat_minor": 2
}
